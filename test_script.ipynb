{
 "cells": [
  {
   "cell_type": "code",
   "execution_count": null,
   "id": "8feb7886",
   "metadata": {},
   "outputs": [],
   "source": [
    "from fire_areas import process_fire_grid\n",
    "\n",
    "bbox_portugal = (-9.56, 36.95, -6.19, 42.15)\n",
    "shape = './data/iso_borrar.shp'\n",
    "start, end = \"2025-09-06T11:10:00\", \"2025-09-06T18:00:00\"\n",
    "\n",
    "# 🔥 Example with custom detection parameters\n",
    "detection_params = {\n",
    "    \"method\": \"combined\",     # use both RGB + HSV detection (default='hsv')\n",
    "    \"upscale_factor\": 2,      # lower upscale (default=4) → more precise contours\n",
    "    \"blur_sigma\": 2.0,        # sharper edges, less smoothing (default=3.0)\n",
    "    \"threshold_value\": 0.6,   # more sensitive to weaker signals (default=0.7)\n",
    "    \"tol\": 30,                # stricter RGB tolerance (default=40)\n",
    "    \"min_area_ha\": 0.5        # accept smaller fires (>0.5 ha) (default=1)\n",
    "}\n",
    "\n",
    "process_fire_grid(\n",
    "    bbox_portugal,\n",
    "    start,\n",
    "    end,\n",
    "    shape,\n",
    "    detection_params=detection_params\n",
    ")"
   ]
  }
 ],
 "metadata": {
  "kernelspec": {
   "display_name": ".venv",
   "language": "python",
   "name": "python3"
  },
  "language_info": {
   "codemirror_mode": {
    "name": "ipython",
    "version": 3
   },
   "file_extension": ".py",
   "mimetype": "text/x-python",
   "name": "python",
   "nbconvert_exporter": "python",
   "pygments_lexer": "ipython3",
   "version": "3.13.7"
  }
 },
 "nbformat": 4,
 "nbformat_minor": 5
}
